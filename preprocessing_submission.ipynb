{
 "cells": [
  {
   "cell_type": "code",
   "execution_count": 1,
   "id": "ed31f491-e19c-437e-9100-900dae8924be",
   "metadata": {},
   "outputs": [],
   "source": [
    "import numpy as np\n",
    "import pandas as pd\n",
    "import seaborn as sns\n",
    "import matplotlib.pyplot as plt\n",
    "\n",
    "import warnings\n",
    "warnings.filterwarnings(action = 'ignore')"
   ]
  },
  {
   "cell_type": "code",
   "execution_count": 2,
   "id": "0eec628c-1fb7-4712-bcce-960d272c668a",
   "metadata": {},
   "outputs": [],
   "source": [
    "submission_data = pd.read_csv('data/submission.csv')"
   ]
  },
  {
   "cell_type": "code",
   "execution_count": 3,
   "id": "729f02a7-756f-473d-bb5a-c28d77ec4a4b",
   "metadata": {},
   "outputs": [],
   "source": [
    "submission_data.drop_duplicates(inplace=True)"
   ]
  },
  {
   "cell_type": "code",
   "execution_count": 4,
   "id": "c7e3e203",
   "metadata": {},
   "outputs": [
    {
     "name": "stdout",
     "output_type": "stream",
     "text": [
      "<class 'pandas.core.frame.DataFrame'>\n",
      "RangeIndex: 7116 entries, 0 to 7115\n",
      "Data columns (total 22 columns):\n",
      " #   Column            Non-Null Count  Dtype  \n",
      "---  ------            --------------  -----  \n",
      " 0   Unnamed: 0        7116 non-null   int64  \n",
      " 1   접수연도              7116 non-null   int64  \n",
      " 2   자치구코드             7116 non-null   int64  \n",
      " 3   자치구명              7116 non-null   object \n",
      " 4   법정동코드             7116 non-null   int64  \n",
      " 5   법정동명              7116 non-null   object \n",
      " 6   지번구분              6879 non-null   float64\n",
      " 7   지번구분명             6879 non-null   object \n",
      " 8   본번                6879 non-null   float64\n",
      " 9   부번                6879 non-null   float64\n",
      " 10  건물명               6879 non-null   object \n",
      " 11  계약일               7116 non-null   int64  \n",
      " 12  건물면적(㎡)           7116 non-null   float64\n",
      " 13  토지면적(㎡)           6612 non-null   float64\n",
      " 14  층                 6879 non-null   float64\n",
      " 15  권리구분              65 non-null     object \n",
      " 16  취소일               261 non-null    float64\n",
      " 17  건축년도              7095 non-null   float64\n",
      " 18  건물용도              7116 non-null   object \n",
      " 19  신고구분              7116 non-null   object \n",
      " 20  신고한 개업공인중개사 시군구명  6291 non-null   object \n",
      " 21  물건금액(만원)          7116 non-null   int64  \n",
      "dtypes: float64(8), int64(6), object(8)\n",
      "memory usage: 1.2+ MB\n"
     ]
    }
   ],
   "source": [
    "submission_data.info()"
   ]
  },
  {
   "cell_type": "code",
   "execution_count": 5,
   "id": "51a798be-79aa-474b-896d-7815117a23b6",
   "metadata": {},
   "outputs": [],
   "source": [
    "submission_data.drop(['Unnamed: 0','접수연도', '자치구명', '법정동명', '지번구분명', '본번', '부번', '취소일', '신고한 개업공인중개사 시군구명'], axis = 1, inplace = True)"
   ]
  },
  {
   "cell_type": "code",
   "execution_count": 6,
   "id": "7c5ebc96-9e3c-4098-964d-da7f22459573",
   "metadata": {},
   "outputs": [],
   "source": [
    "submission_data['지번구분'].fillna(1, inplace=True)"
   ]
  },
  {
   "cell_type": "code",
   "execution_count": 7,
   "id": "36d6cf75-765c-49e3-93ba-f346f12cba3c",
   "metadata": {},
   "outputs": [],
   "source": [
    "def fill_missing_build(row):\n",
    "    if pd.isnull(row['건축년도']):\n",
    "        matching_values = submission_data[(submission_data['자치구코드'] == row['자치구코드']) & \n",
    "        (submission_data['지번구분'] == row['지번구분']) & (submission_data['법정동코드'] == row['법정동코드'])]['지번구분'].mode()\n",
    "        if not matching_values.empty:\n",
    "            return matching_values[0]\n",
    "    return row['건축년도']\n",
    "\n",
    "submission_data['건축년도'] = submission_data.apply(fill_missing_build, axis=1)"
   ]
  },
  {
   "cell_type": "code",
   "execution_count": 8,
   "id": "2be96dd1-1adc-4587-8d93-6552aca0cf31",
   "metadata": {},
   "outputs": [],
   "source": [
    "def fill_missing_build(row):\n",
    "    if (row['건축년도']==0):\n",
    "        matching_values = submission_data[(submission_data['자치구코드'] == row['자치구코드']) & \n",
    "        (submission_data['지번구분'] == row['지번구분']) & (submission_data['법정동코드'] == row['법정동코드'])]['건축년도'].mode()\n",
    "        if not matching_values.empty:\n",
    "            return matching_values[0]\n",
    "    return row['건축년도']\n",
    "\n",
    "submission_data['건축년도'] = submission_data.apply(fill_missing_build, axis=1)"
   ]
  },
  {
   "cell_type": "code",
   "execution_count": 9,
   "id": "197535f2-05a2-4e23-bf8c-664c29a38e57",
   "metadata": {},
   "outputs": [],
   "source": [
    "submission_data['층'] = submission_data['층'].fillna(2)"
   ]
  },
  {
   "cell_type": "code",
   "execution_count": 10,
   "id": "a03559b7",
   "metadata": {},
   "outputs": [],
   "source": [
    "conditions = [\n",
    "    submission_data['층'] < 0,                       # '지하' 조건\n",
    "    (submission_data['층'] >= 0) & (submission_data['층'] <= 10), # '저층' 조건\n",
    "    (submission_data['층'] > 10) & (submission_data['층'] <= 20), # '중층' 조건\n",
    "    (submission_data['층'] > 20) & (submission_data['층'] <= 30), # '고층' 조건\n",
    "    submission_data['층'] > 30                       # '초고층' 조건\n",
    "]\n",
    "choices = [1, 2, 3, 4, 5]\n",
    "submission_data['층_범주'] = np.select(conditions, choices, default=np.nan)\n",
    "submission_data.drop(['층'], axis = 1, inplace = True)"
   ]
  },
  {
   "cell_type": "code",
   "execution_count": 11,
   "id": "3432305f",
   "metadata": {},
   "outputs": [],
   "source": [
    "mean_values = submission_data.groupby('자치구코드')['물건금액(만원)'].mean()\n",
    "mean_values_sorted = mean_values.sort_values(ascending=True).reset_index()\n",
    "mean_values_sorted['자치구코드_범주화'] = (mean_values_sorted.index // 5) + 1\n",
    "submission_data = submission_data.merge(mean_values_sorted[['자치구코드', '자치구코드_범주화']], on='자치구코드', how='left')"
   ]
  },
  {
   "cell_type": "code",
   "execution_count": 12,
   "id": "d4a63007",
   "metadata": {},
   "outputs": [],
   "source": [
    "mean_values2 = submission_data.groupby('법정동코드')['물건금액(만원)'].mean()\n",
    "mean_values_sorted2 = mean_values2.sort_values(ascending=True).reset_index()\n",
    "mean_values_sorted2['법정동코드_범주화'] = (mean_values_sorted2.index // 5) + 1\n",
    "submission_data = submission_data.merge(mean_values_sorted2[['법정동코드', '법정동코드_범주화']], on='법정동코드', how='left')"
   ]
  },
  {
   "cell_type": "code",
   "execution_count": 13,
   "id": "4b7449b3",
   "metadata": {},
   "outputs": [],
   "source": [
    "cols = [\"물건금액(만원)\", \"건물면적(㎡)\", \"토지면적(㎡)\", \"건축년도\"]\n",
    "for col in cols:\n",
    "  submission_data = submission_data[np.abs(submission_data[col] - submission_data[col].mean()) <= (3*submission_data[col].std())]"
   ]
  },
  {
   "cell_type": "code",
   "execution_count": 14,
   "id": "0b887570",
   "metadata": {},
   "outputs": [],
   "source": [
    "submission_data['계약년월'] = submission_data['계약일'].astype(str).str[:6].astype('int64')\n",
    "submission_data.drop(['계약일'], axis=1, inplace=True)"
   ]
  },
  {
   "cell_type": "code",
   "execution_count": 15,
   "id": "6cb02953",
   "metadata": {},
   "outputs": [],
   "source": [
    "submission_data['물건금액_log'] = np.log1p(submission_data['물건금액(만원)'])\n",
    "submission_data['건물면적_log'] = np.log1p(submission_data['건물면적(㎡)'])\n",
    "submission_data['토지면적_log'] = np.log1p(submission_data['토지면적(㎡)'])"
   ]
  },
  {
   "cell_type": "code",
   "execution_count": 16,
   "id": "3e0d6037",
   "metadata": {},
   "outputs": [],
   "source": [
    "submission_data.drop(columns = ['건물면적(㎡)','토지면적(㎡)'], inplace=True)"
   ]
  },
  {
   "cell_type": "code",
   "execution_count": 17,
   "id": "a94f727e-5ae8-4965-9269-30f85a719440",
   "metadata": {},
   "outputs": [],
   "source": [
    "submission_data.drop(['건물명'], axis=1, inplace=True)"
   ]
  },
  {
   "cell_type": "code",
   "execution_count": 18,
   "id": "bd6bdbc6-ac07-4999-8459-4fbb46637f45",
   "metadata": {},
   "outputs": [],
   "source": [
    "submission_data.drop(['지번구분'], axis=1, inplace=True)"
   ]
  },
  {
   "cell_type": "code",
   "execution_count": 19,
   "id": "244c9071-f8e7-4ec8-b038-2a8f8fa9e351",
   "metadata": {},
   "outputs": [
    {
     "data": {
      "text/plain": [
       "자치구코드           0\n",
       "법정동코드           0\n",
       "권리구분         6350\n",
       "건축년도            0\n",
       "건물용도            0\n",
       "신고구분            0\n",
       "물건금액(만원)        0\n",
       "층_범주            0\n",
       "자치구코드_범주화       0\n",
       "법정동코드_범주화       0\n",
       "계약년월            0\n",
       "물건금액_log        0\n",
       "건물면적_log        0\n",
       "토지면적_log        0\n",
       "dtype: int64"
      ]
     },
     "execution_count": 19,
     "metadata": {},
     "output_type": "execute_result"
    }
   ],
   "source": [
    "submission_data.isnull().sum()"
   ]
  },
  {
   "cell_type": "code",
   "execution_count": 20,
   "id": "83ae71bd-daa8-42ba-b388-b5dcd2dcc049",
   "metadata": {},
   "outputs": [],
   "source": [
    "submission_data = pd.get_dummies(submission_data, columns=['권리구분'], prefix='권리구분')\n",
    "submission_data = pd.get_dummies(submission_data, columns=['신고구분'], prefix='신고구분')\n",
    "submission_data = pd.get_dummies(submission_data, columns=['건물용도'], prefix='건물용도')"
   ]
  },
  {
   "cell_type": "code",
   "execution_count": 21,
   "id": "13558ab8-2537-4438-bc47-0d69a1b20b1c",
   "metadata": {},
   "outputs": [
    {
     "data": {
      "text/plain": [
       "자치구코드         0\n",
       "법정동코드         0\n",
       "건축년도          0\n",
       "물건금액(만원)      0\n",
       "층_범주          0\n",
       "자치구코드_범주화     0\n",
       "법정동코드_범주화     0\n",
       "계약년월          0\n",
       "물건금액_log      0\n",
       "건물면적_log      0\n",
       "토지면적_log      0\n",
       "권리구분_분양권      0\n",
       "권리구분_입주권      0\n",
       "신고구분_중개거래     0\n",
       "신고구분_직거래      0\n",
       "건물용도_단독다가구    0\n",
       "건물용도_아파트      0\n",
       "건물용도_연립다세대    0\n",
       "건물용도_오피스텔     0\n",
       "dtype: int64"
      ]
     },
     "execution_count": 21,
     "metadata": {},
     "output_type": "execute_result"
    }
   ],
   "source": [
    "submission_data.isnull().sum()"
   ]
  },
  {
   "cell_type": "code",
   "execution_count": 22,
   "id": "eeb2245b-4e7c-472d-9aff-311d9c79d46c",
   "metadata": {},
   "outputs": [],
   "source": [
    "submission_data.to_csv('submission_preprocessed.csv', index=False)"
   ]
  },
  {
   "cell_type": "code",
   "execution_count": 23,
   "id": "27066378-6013-44e8-8b3a-c5b3e94e8f34",
   "metadata": {},
   "outputs": [
    {
     "name": "stdout",
     "output_type": "stream",
     "text": [
      "<class 'pandas.core.frame.DataFrame'>\n",
      "Index: 6389 entries, 0 to 7115\n",
      "Data columns (total 19 columns):\n",
      " #   Column      Non-Null Count  Dtype  \n",
      "---  ------      --------------  -----  \n",
      " 0   자치구코드       6389 non-null   int64  \n",
      " 1   법정동코드       6389 non-null   int64  \n",
      " 2   건축년도        6389 non-null   float64\n",
      " 3   물건금액(만원)    6389 non-null   int64  \n",
      " 4   층_범주        6389 non-null   float64\n",
      " 5   자치구코드_범주화   6389 non-null   int64  \n",
      " 6   법정동코드_범주화   6389 non-null   int64  \n",
      " 7   계약년월        6389 non-null   int64  \n",
      " 8   물건금액_log    6389 non-null   float64\n",
      " 9   건물면적_log    6389 non-null   float64\n",
      " 10  토지면적_log    6389 non-null   float64\n",
      " 11  권리구분_분양권    6389 non-null   bool   \n",
      " 12  권리구분_입주권    6389 non-null   bool   \n",
      " 13  신고구분_중개거래   6389 non-null   bool   \n",
      " 14  신고구분_직거래    6389 non-null   bool   \n",
      " 15  건물용도_단독다가구  6389 non-null   bool   \n",
      " 16  건물용도_아파트    6389 non-null   bool   \n",
      " 17  건물용도_연립다세대  6389 non-null   bool   \n",
      " 18  건물용도_오피스텔   6389 non-null   bool   \n",
      "dtypes: bool(8), float64(5), int64(6)\n",
      "memory usage: 648.9 KB\n"
     ]
    }
   ],
   "source": [
    "submission_data.info()"
   ]
  },
  {
   "cell_type": "code",
   "execution_count": null,
   "id": "034355c3",
   "metadata": {},
   "outputs": [],
   "source": []
  }
 ],
 "metadata": {
  "kernelspec": {
   "display_name": "Python 3 (ipykernel)",
   "language": "python",
   "name": "python3"
  },
  "language_info": {
   "codemirror_mode": {
    "name": "ipython",
    "version": 3
   },
   "file_extension": ".py",
   "mimetype": "text/x-python",
   "name": "python",
   "nbconvert_exporter": "python",
   "pygments_lexer": "ipython3",
   "version": "3.11.7"
  }
 },
 "nbformat": 4,
 "nbformat_minor": 5
}
